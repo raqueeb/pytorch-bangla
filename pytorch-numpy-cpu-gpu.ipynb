{
 "cells": [
  {
   "cell_type": "code",
   "execution_count": 1,
   "id": "verbal-limitation",
   "metadata": {},
   "outputs": [],
   "source": [
    "import torch\n",
    "import numpy"
   ]
  },
  {
   "cell_type": "code",
   "execution_count": 2,
   "id": "collected-poland",
   "metadata": {},
   "outputs": [
    {
     "data": {
      "text/plain": [
       "array([[0.1, 1.2],\n",
       "       [2.2, 3.1],\n",
       "       [4.9, 5.2]])"
      ]
     },
     "execution_count": 2,
     "metadata": {},
     "output_type": "execute_result"
    }
   ],
   "source": [
    "numpy.array([[0.1, 1.2], [2.2, 3.1], [4.9, 5.2]])"
   ]
  },
  {
   "cell_type": "code",
   "execution_count": 3,
   "id": "applicable-illinois",
   "metadata": {},
   "outputs": [
    {
     "data": {
      "text/plain": [
       "tensor([[0.1000, 1.2000],\n",
       "        [2.2000, 3.1000],\n",
       "        [4.9000, 5.2000]])"
      ]
     },
     "execution_count": 3,
     "metadata": {},
     "output_type": "execute_result"
    }
   ],
   "source": [
    "torch.tensor([[0.1, 1.2], [2.2, 3.1], [4.9, 5.2]])"
   ]
  },
  {
   "cell_type": "code",
   "execution_count": 9,
   "id": "violent-kelly",
   "metadata": {},
   "outputs": [
    {
     "name": "stdout",
     "output_type": "stream",
     "text": [
      "a: [1. 1. 1. 1. 1.]\n",
      "b: tensor([1., 1., 1., 1., 1.], dtype=torch.float64)\n"
     ]
    }
   ],
   "source": [
    "a = numpy.ones(5)     #From NumPy to Torch\n",
    "b = torch.from_numpy(a)\n",
    "\n",
    "print('a:',a)\n",
    "print('b:',b)"
   ]
  },
  {
   "cell_type": "code",
   "execution_count": 10,
   "id": "therapeutic-interest",
   "metadata": {},
   "outputs": [
    {
     "name": "stdout",
     "output_type": "stream",
     "text": [
      "tensor([[0., 0., 0.],\n",
      "        [0., 0., 0.],\n",
      "        [0., 0., 0.]]) \n",
      " torch.Size([3, 3]) \n",
      "\n",
      "tensor([[[-0.6692, -0.7776,  1.5694,  0.8352,  1.3476, -0.5720,  0.7283],\n",
      "         [-1.0007,  0.7241,  1.3452,  0.8588, -0.2995, -1.4560,  1.7915],\n",
      "         [ 1.9128, -0.2632, -0.8691, -1.4808,  0.3628,  0.7167,  0.4264]],\n",
      "\n",
      "        [[-0.2009,  0.9550,  0.6067, -0.1201, -0.9100,  0.3047, -1.1209],\n",
      "         [ 0.2995,  1.7401, -0.0402, -0.1051,  0.2420, -0.7066, -2.5937],\n",
      "         [-0.7033, -0.1201, -1.8913, -0.9631, -1.3150, -0.1321,  0.0420]],\n",
      "\n",
      "        [[ 0.8668,  0.8282, -1.4489,  0.6600, -0.5077, -1.3425, -0.9259],\n",
      "         [ 0.2660, -1.7182, -0.4228,  0.4109,  1.9769,  0.3062, -0.4206],\n",
      "         [-1.7841, -1.0168,  0.0152, -1.0633,  0.6879,  0.4970,  0.1162]]]) \n",
      " torch.Size([3, 3, 7]) \n",
      "\n",
      "tensor([[0., 0., 0.],\n",
      "        [0., 0., 0.],\n",
      "        [0., 0., 0.]]) \n",
      " torch.Size([3, 3]) \n",
      "\n",
      "tensor([[1., 1., 1.],\n",
      "        [1., 1., 1.],\n",
      "        [1., 1., 1.]]) \n",
      " torch.Size([3, 3]) \n",
      "\n"
     ]
    }
   ],
   "source": [
    "w = torch.empty(3, 3)\n",
    "print(w,'\\n', w.shape, '\\n')\n",
    "\n",
    "x = torch.randn(3, 3, 7)\n",
    "print(x,'\\n', x.shape, '\\n')\n",
    "\n",
    "y = torch.zeros(3, 3)\n",
    "print(y,'\\n', y.shape, '\\n')\n",
    "\n",
    "z = torch.ones(3, 3)\n",
    "print(z,'\\n', z.shape, '\\n')"
   ]
  },
  {
   "cell_type": "code",
   "execution_count": 11,
   "id": "cooperative-documentation",
   "metadata": {},
   "outputs": [
    {
     "name": "stdout",
     "output_type": "stream",
     "text": [
      "torch.Size([100, 50])\n",
      "torch.Size([20, 5, 50])\n",
      "torch.Size([20, 5, 50])\n"
     ]
    }
   ],
   "source": [
    "x = torch.rand(100,50)\n",
    "print(x.shape)\n",
    "\n",
    "y=x.view(20,5,50)\n",
    "print(y.shape)\n",
    "\n",
    "z=x.view(-1,5,50)\n",
    "print(z.shape)"
   ]
  },
  {
   "cell_type": "code",
   "execution_count": 4,
   "id": "short-exclusion",
   "metadata": {},
   "outputs": [
    {
     "name": "stdout",
     "output_type": "stream",
     "text": [
      "CPU: cpu\n",
      "GPU: cuda:0\n",
      "CPU to GPU: cuda:0\n",
      "GPU to CPU: cpu\n"
     ]
    }
   ],
   "source": [
    "cpu=torch.device(\"cpu\")\n",
    "gpu=torch.device(\"cuda:0\") # GPU 0# Create tensor with CPU\n",
    "\n",
    "x=torch.ones(3,3, device=cpu)\n",
    "print(\"CPU:\",x.device)\n",
    "\n",
    "x=torch.ones(3,3, device=gpu)\n",
    "print(\"GPU:\",x.device)\n",
    "\n",
    "x=torch.ones(3,3).cuda(0)\n",
    "print(\"CPU to GPU:\",x.device)\n",
    "\n",
    "x=torch.ones(3,3, device=gpu).cpu()\n",
    "print(\"GPU to CPU:\",x.device)"
   ]
  },
  {
   "cell_type": "code",
   "execution_count": 5,
   "id": "excellent-depression",
   "metadata": {},
   "outputs": [
    {
     "name": "stdout",
     "output_type": "stream",
     "text": [
      "9.447360038757324\n"
     ]
    }
   ],
   "source": [
    "import time\n",
    "\n",
    "x=torch.rand(10000,10000)\n",
    "y=torch.rand(10000,10000)\n",
    "\n",
    "t = time.time()\n",
    "z = x@y\n",
    "t = time.time()-t\n",
    "print(t)"
   ]
  },
  {
   "cell_type": "code",
   "execution_count": 6,
   "id": "rotary-pharmacy",
   "metadata": {},
   "outputs": [
    {
     "name": "stdout",
     "output_type": "stream",
     "text": [
      "0.3421015739440918\n"
     ]
    }
   ],
   "source": [
    "xc = x.cuda(0)\n",
    "yc = y.cuda(0)\n",
    "\n",
    "t = time.time()\n",
    "\n",
    "z = xc@yc\n",
    "t = time.time()-t\n",
    "\n",
    "print(t)"
   ]
  },
  {
   "cell_type": "code",
   "execution_count": null,
   "id": "surprised-witch",
   "metadata": {},
   "outputs": [],
   "source": []
  }
 ],
 "metadata": {
  "kernelspec": {
   "display_name": "Python 3",
   "language": "python",
   "name": "python3"
  },
  "language_info": {
   "codemirror_mode": {
    "name": "ipython",
    "version": 3
   },
   "file_extension": ".py",
   "mimetype": "text/x-python",
   "name": "python",
   "nbconvert_exporter": "python",
   "pygments_lexer": "ipython3",
   "version": "3.9.1"
  }
 },
 "nbformat": 4,
 "nbformat_minor": 5
}
