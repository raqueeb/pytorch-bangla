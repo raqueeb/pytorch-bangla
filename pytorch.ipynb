{
  "nbformat": 4,
  "nbformat_minor": 0,
  "metadata": {
    "colab": {
      "name": "pytorch.ipynb",
      "provenance": [],
      "authorship_tag": "ABX9TyNQIEGxZDwlbO8uiK4XGUph",
      "include_colab_link": true
    },
    "kernelspec": {
      "name": "python3",
      "display_name": "Python 3"
    }
  },
  "cells": [
    {
      "cell_type": "markdown",
      "metadata": {
        "id": "view-in-github",
        "colab_type": "text"
      },
      "source": [
        "<a href=\"https://colab.research.google.com/github/raqueeb/pytorch-bangla/blob/main/pytorch.ipynb\" target=\"_parent\"><img src=\"https://colab.research.google.com/assets/colab-badge.svg\" alt=\"Open In Colab\"/></a>"
      ]
    },
    {
      "cell_type": "markdown",
      "metadata": {
        "id": "wlR23KPCOw3d"
      },
      "source": [
        "## প্র্যাকটিস নোট\r\n",
        "\r\n",
        "নিচে ভিডিওর অংশটা পাবেন"
      ]
    },
    {
      "cell_type": "code",
      "metadata": {
        "id": "GaxMABkPJfwz"
      },
      "source": [
        "import torch"
      ],
      "execution_count": 1,
      "outputs": []
    },
    {
      "cell_type": "code",
      "metadata": {
        "id": "kofT1QuWJvPy"
      },
      "source": [
        "x = torch.Tensor([3])\r\n",
        "y = torch.Tensor([17])  "
      ],
      "execution_count": 2,
      "outputs": []
    },
    {
      "cell_type": "code",
      "metadata": {
        "id": "fFuKfLkkXKb7",
        "colab": {
          "base_uri": "https://localhost:8080/"
        },
        "outputId": "0837c449-c00a-4935-aa43-e72a3a4b4855"
      },
      "source": [
        "x.requires_grad_()"
      ],
      "execution_count": 3,
      "outputs": [
        {
          "output_type": "execute_result",
          "data": {
            "text/plain": [
              "tensor([3.], requires_grad=True)"
            ]
          },
          "metadata": {
            "tags": []
          },
          "execution_count": 3
        }
      ]
    },
    {
      "cell_type": "code",
      "metadata": {
        "colab": {
          "base_uri": "https://localhost:8080/"
        },
        "id": "EhFFmPwNJwpK",
        "outputId": "f1c12700-b41a-4bcf-dcc5-924d3ac4c54c"
      },
      "source": [
        "\r\n",
        "y.requires_grad_()\r\n"
      ],
      "execution_count": 4,
      "outputs": [
        {
          "output_type": "execute_result",
          "data": {
            "text/plain": [
              "tensor([17.], requires_grad=True)"
            ]
          },
          "metadata": {
            "tags": []
          },
          "execution_count": 4
        }
      ]
    },
    {
      "cell_type": "code",
      "metadata": {
        "colab": {
          "base_uri": "https://localhost:8080/"
        },
        "id": "Nz-noC33LGJW",
        "outputId": "6ba69a08-7f20-4898-cb2a-3005998078e5"
      },
      "source": [
        "print(x)"
      ],
      "execution_count": 5,
      "outputs": [
        {
          "output_type": "stream",
          "text": [
            "tensor([3.], requires_grad=True)\n"
          ],
          "name": "stdout"
        }
      ]
    },
    {
      "cell_type": "code",
      "metadata": {
        "colab": {
          "base_uri": "https://localhost:8080/"
        },
        "id": "OFsH5B9XJ28d",
        "outputId": "b682ca87-df07-452e-e809-9a3bcf0c3aad"
      },
      "source": [
        "loss = x**2 * y + y\r\n",
        "loss"
      ],
      "execution_count": 6,
      "outputs": [
        {
          "output_type": "execute_result",
          "data": {
            "text/plain": [
              "tensor([170.], grad_fn=<AddBackward0>)"
            ]
          },
          "metadata": {
            "tags": []
          },
          "execution_count": 6
        }
      ]
    },
    {
      "cell_type": "code",
      "metadata": {
        "id": "k9oBNoPZLQXu"
      },
      "source": [
        "loss.backward(create_graph=True, retain_graph=True)"
      ],
      "execution_count": 7,
      "outputs": []
    },
    {
      "cell_type": "code",
      "metadata": {
        "id": "cGXTIicMT8Bn"
      },
      "source": [
        "xx = x.grad"
      ],
      "execution_count": 8,
      "outputs": []
    },
    {
      "cell_type": "code",
      "metadata": {
        "colab": {
          "base_uri": "https://localhost:8080/"
        },
        "id": "0yXEW-7CUEGn",
        "outputId": "67697f82-27de-4eff-ae6f-cf72257ebc0b"
      },
      "source": [
        "xx"
      ],
      "execution_count": 9,
      "outputs": [
        {
          "output_type": "execute_result",
          "data": {
            "text/plain": [
              "tensor([102.], grad_fn=<CopyBackwards>)"
            ]
          },
          "metadata": {
            "tags": []
          },
          "execution_count": 9
        }
      ]
    },
    {
      "cell_type": "code",
      "metadata": {
        "colab": {
          "base_uri": "https://localhost:8080/"
        },
        "id": "LFTj39-HJ599",
        "outputId": "48e37deb-0359-4e3d-cccf-b28d29178abd"
      },
      "source": [
        "xx.requires_grad_()"
      ],
      "execution_count": 10,
      "outputs": [
        {
          "output_type": "execute_result",
          "data": {
            "text/plain": [
              "tensor([102.], grad_fn=<CopyBackwards>)"
            ]
          },
          "metadata": {
            "tags": []
          },
          "execution_count": 10
        }
      ]
    },
    {
      "cell_type": "code",
      "metadata": {
        "id": "NAWUguHiJ80w"
      },
      "source": [
        "result = torch.autograd.grad(xx, y)"
      ],
      "execution_count": 11,
      "outputs": []
    },
    {
      "cell_type": "code",
      "metadata": {
        "colab": {
          "base_uri": "https://localhost:8080/"
        },
        "id": "YRaw6GL5Jm7W",
        "outputId": "3287f378-520e-4fc7-c035-176baf05a9e3"
      },
      "source": [
        "result"
      ],
      "execution_count": 12,
      "outputs": [
        {
          "output_type": "execute_result",
          "data": {
            "text/plain": [
              "(tensor([6.]),)"
            ]
          },
          "metadata": {
            "tags": []
          },
          "execution_count": 12
        }
      ]
    },
    {
      "cell_type": "markdown",
      "metadata": {
        "id": "f0sQ1TCKO_vX"
      },
      "source": [
        "## ভিডিওর অংশ"
      ]
    },
    {
      "cell_type": "markdown",
      "metadata": {
        "id": "qKuX0uJrfOW9"
      },
      "source": [
        "## টেন্সর অপারেশন এবং গ্র্যাডিয়েন্ট "
      ]
    },
    {
      "cell_type": "code",
      "metadata": {
        "id": "jNrInIgBfgnX"
      },
      "source": [
        "import torch"
      ],
      "execution_count": 13,
      "outputs": []
    },
    {
      "cell_type": "markdown",
      "metadata": {
        "id": "MgXnjfr2frnK"
      },
      "source": [
        "### টেন্সর তৈরি করছি ৩টা \r\n",
        "\r\n",
        "w, b এর ব্যাপারে অটোগ্র্যাডকে সিগন্যাল দিচ্ছি, সব অপারেশন্সকে মনে রাখবে।"
      ]
    },
    {
      "cell_type": "code",
      "metadata": {
        "colab": {
          "base_uri": "https://localhost:8080/"
        },
        "id": "jBQ8e6GKfbD7",
        "outputId": "ab58b1f5-9430-4245-dd78-550a2820732b"
      },
      "source": [
        "x = torch.tensor(3.)\r\n",
        "w = torch.tensor(4., requires_grad=True)\r\n",
        "b = torch.tensor(5., requires_grad=True)\r\n",
        "x, w, b"
      ],
      "execution_count": 14,
      "outputs": [
        {
          "output_type": "execute_result",
          "data": {
            "text/plain": [
              "(tensor(3.), tensor(4., requires_grad=True), tensor(5., requires_grad=True))"
            ]
          },
          "metadata": {
            "tags": []
          },
          "execution_count": 14
        }
      ]
    },
    {
      "cell_type": "markdown",
      "metadata": {
        "id": "kuu6bncNfzmI"
      },
      "source": [
        "### অংকের কাজ\r\n",
        "\r\n",
        "সাধারণ পাইথনের কাজ\r\n",
        "\r\n",
        "৪ * ৩ + ৫ = ১৭"
      ]
    },
    {
      "cell_type": "code",
      "metadata": {
        "id": "b1cJEMDKflR4",
        "colab": {
          "base_uri": "https://localhost:8080/"
        },
        "outputId": "c0d46ffe-5dbe-4de2-eb5a-3679503d1aab"
      },
      "source": [
        "y =w * x + b \r\n",
        "y"
      ],
      "execution_count": 15,
      "outputs": [
        {
          "output_type": "execute_result",
          "data": {
            "text/plain": [
              "tensor(17., grad_fn=<AddBackward0>)"
            ]
          },
          "metadata": {
            "tags": []
          },
          "execution_count": 15
        }
      ]
    },
    {
      "cell_type": "markdown",
      "metadata": {
        "id": "NgiC-uLqf86U"
      },
      "source": [
        "### ডিরাইভেটিভ হিসেব করি\r\n",
        "\r\n"
      ]
    },
    {
      "cell_type": "code",
      "metadata": {
        "id": "i3fh3_C0gFUL"
      },
      "source": [
        "y.backward()"
      ],
      "execution_count": 16,
      "outputs": []
    },
    {
      "cell_type": "markdown",
      "metadata": {
        "id": "KhBd3vx4gKb_"
      },
      "source": [
        "### গ্র্যাডিয়েন্টগুলো দেখি \r\n",
        "\r\n",
        "dy/dx: এর কোন ডিরাইভেটিভ নেই।\r\n",
        "\r\n",
        "dy/dw: এর মান কতো হবে? মনে আছে ক্যালকুলাসের কথা?\r\n",
        "\r\n",
        "dy/db: কী হতে পারে?\r\n"
      ]
    },
    {
      "cell_type": "markdown",
      "metadata": {
        "id": "iIEv-oisTstT"
      },
      "source": [
        "রেজাল্ট দেখি?"
      ]
    },
    {
      "cell_type": "code",
      "metadata": {
        "id": "x-wQQzsIgU3s",
        "colab": {
          "base_uri": "https://localhost:8080/"
        },
        "outputId": "39009ef3-0a26-4b4e-c15f-70c489fc5cee"
      },
      "source": [
        "print('dy/dx:', x.grad)\r\n",
        "print('dy/dw:', w.grad)\r\n",
        "print('dy/db:', b.grad)"
      ],
      "execution_count": 17,
      "outputs": [
        {
          "output_type": "stream",
          "text": [
            "dy/dx: None\n",
            "dy/dw: tensor(3.)\n",
            "dy/db: tensor(1.)\n"
          ],
          "name": "stdout"
        }
      ]
    }
  ]
}